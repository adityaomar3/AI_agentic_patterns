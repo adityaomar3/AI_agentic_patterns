{
 "cells": [
  {
   "cell_type": "markdown",
   "id": "902e95f2",
   "metadata": {},
   "source": [
    "LLM weights is usually not enough to give accurate and insightful answers to our questions thus we need external tools to access the better functionality and web/world."
   ]
  },
  {
   "cell_type": "code",
   "execution_count": 40,
   "id": "c22c7f38",
   "metadata": {},
   "outputs": [],
   "source": [
    "import os\n",
    "import re\n",
    "from groq import Groq\n",
    "from dotenv import load_dotenv\n",
    "import requests\n",
    "import json"
   ]
  },
  {
   "cell_type": "code",
   "execution_count": 100,
   "id": "25d9a38a",
   "metadata": {},
   "outputs": [],
   "source": [
    "\n",
    "def get_weather(city_name: str):\n",
    "    \"\"\"\n",
    "    Fetches weather data for a given city using OpenWeatherMap API.\n",
    "\n",
    "    Args:\n",
    "        city_name (str): Name of the city (e.g., \"London\").\n",
    "\n",
    "    Returns:\n",
    "        dict: Weather data including temperature, weather condition, etc.\n",
    "    \"\"\"\n",
    "    base_url = \"http://api.openweathermap.org/data/2.5/weather\"\n",
    "    params = {\n",
    "        'q': city_name,\n",
    "        'appid': \"157b97604b50157e6df56194df6f4d94\",\n",
    "        'units': 'metric'  # use 'imperial' for Fahrenheit\n",
    "    }\n",
    "\n",
    "    response = requests.get(base_url, params=params)\n",
    "\n",
    "    if response.status_code == 200:\n",
    "        data = response.json()\n",
    "        weather = {\n",
    "            'city': data['name'],\n",
    "            'temperature': data['main']['temp'],\n",
    "            'description': data['weather'][0]['description'],\n",
    "            'humidity': data['main']['humidity'],\n",
    "            'wind_speed': data['wind']['speed']\n",
    "        }\n",
    "        return weather\n",
    "    else:\n",
    "        return {'error': f\"Failed to get weather data: {response.status_code}\"}\n"
   ]
  },
  {
   "cell_type": "code",
   "execution_count": 42,
   "id": "869d3c1e",
   "metadata": {},
   "outputs": [
    {
     "name": "stdout",
     "output_type": "stream",
     "text": [
      "{'city': 'Delhi', 'temperature': '31.46°C', 'condition': 'few clouds', 'humidity': '41%', 'wind_speed': '6.13 m/s'}\n"
     ]
    }
   ],
   "source": [
    "city = \"Delhi\"\n",
    "weather_info = get_weather(city)\n",
    "\n",
    "if 'error' in weather_info:\n",
    "    print(weather_info['error'])\n",
    "else:\n",
    "    weather_report = {\n",
    "    \"city\": weather_info['city'],\n",
    "    \"temperature\": f\"{weather_info['temperature']}°C\",\n",
    "    \"condition\": weather_info['description'],\n",
    "    \"humidity\": f\"{weather_info['humidity']}%\",\n",
    "    \"wind_speed\": f\"{weather_info['wind_speed']} m/s\"\n",
    "    }\n",
    "    print(weather_report)\n",
    "    \n"
   ]
  },
  {
   "cell_type": "code",
   "execution_count": 43,
   "id": "04586512",
   "metadata": {},
   "outputs": [],
   "source": [
    "load_dotenv()\n",
    "\n",
    "MODEL = \"llama-3.3-70b-versatile\"\n",
    "GROQ_CLIENT = Groq()\n",
    "\n",
    "# Define the System Prompt as a constant\n",
    "TOOL_SYSTEM_PROMPT = \"\"\"\n",
    "You are a function calling AI model. You are provided with function signatures within <tools></tools> XML tags. \n",
    "You may call one or more functions to assist with the user query. Don't make assumptions about what values to plug \n",
    "into functions. Pay special attention to the properties 'types'. You should use those types as in a Python dict.\n",
    "For each function call return JSON with function name and arguments as follows:\n",
    "\n",
    "{\"name\": <function-name>,\"arguments\": <args-dict>\n",
    "\n",
    "Here are the available tools:\n",
    "\n",
    "<tools> {\n",
    "    \"name\": \"get_current_weather\",\n",
    "    \"description\": \"Get the current weather in a given location location (str): The city will be mentioned by user\"\n",
    "}\n",
    "</tools>\n",
    "\"\"\""
   ]
  },
  {
   "cell_type": "code",
   "execution_count": 44,
   "id": "091886b1",
   "metadata": {},
   "outputs": [
    {
     "name": "stdout",
     "output_type": "stream",
     "text": [
      "{\"name\": \"get_current_weather\",\"arguments\": {\"location\": \"Delhi\"}}\n"
     ]
    },
    {
     "data": {
      "text/plain": [
       "dict"
      ]
     },
     "execution_count": 44,
     "metadata": {},
     "output_type": "execute_result"
    }
   ],
   "source": [
    "tool_chat_history = [\n",
    "    {\n",
    "        \"role\": \"system\",\n",
    "        \"content\": TOOL_SYSTEM_PROMPT\n",
    "    }\n",
    "]\n",
    "\n",
    "agent_chat_history = []\n",
    "\n",
    "user_msg = {\n",
    "    \"role\": \"user\",\n",
    "    \"content\": \"What's the current weather in Delhi?\"\n",
    "}\n",
    "\n",
    "tool_chat_history.append(user_msg)\n",
    "agent_chat_history.append(user_msg)\n",
    "\n",
    "output = GROQ_CLIENT.chat.completions.create(\n",
    "    messages=tool_chat_history,\n",
    "    model=MODEL\n",
    ").choices[0].message.content\n",
    "\n",
    "print(output)\n",
    "dict_output = json.loads(output)\n",
    "type(dict_output)"
   ]
  },
  {
   "cell_type": "code",
   "execution_count": 45,
   "id": "0341c5de",
   "metadata": {},
   "outputs": [
    {
     "name": "stdout",
     "output_type": "stream",
     "text": [
      "{\"city\": \"Delhi\", \"temperature\": 31.46, \"description\": \"few clouds\", \"humidity\": 41, \"wind_speed\": 6.13}\n"
     ]
    }
   ],
   "source": [
    "result = get_weather(**dict_output[\"arguments\"])\n",
    "# print(result)\n",
    "# type(result)\n",
    "str_op = json.dumps(result)\n",
    "type(str_op)\n",
    "print(str_op)"
   ]
  },
  {
   "cell_type": "code",
   "execution_count": 46,
   "id": "a80e8d8e",
   "metadata": {},
   "outputs": [],
   "source": [
    "agent_chat_history.append({\n",
    "    \"role\": \"user\",\n",
    "    \"content\": f\"Observation: {result}\"\n",
    "})"
   ]
  },
  {
   "cell_type": "code",
   "execution_count": 47,
   "id": "f78e59a9",
   "metadata": {},
   "outputs": [
    {
     "data": {
      "text/plain": [
       "'The current weather in Delhi is mostly sunny with a few clouds, and the temperature is around 31.46°C (88.63°F). The humidity is relatively moderate at 41%, and there is a gentle breeze with a wind speed of 6.13 meters per second (13.7 miles per hour).'"
      ]
     },
     "execution_count": 47,
     "metadata": {},
     "output_type": "execute_result"
    }
   ],
   "source": [
    "GROQ_CLIENT.chat.completions.create(\n",
    "    messages=agent_chat_history,\n",
    "    model=MODEL\n",
    ").choices[0].message.content"
   ]
  },
  {
   "cell_type": "markdown",
   "id": "af283b3f",
   "metadata": {},
   "source": [
    "**Testing the Tool Agent class**"
   ]
  },
  {
   "cell_type": "code",
   "execution_count": 69,
   "id": "a07d15fa",
   "metadata": {},
   "outputs": [],
   "source": [
    "from agentic_patterns.tool_pattern.tool import tool\n",
    "from agentic_patterns.tool_pattern.tool_agent import ToolAgent"
   ]
  },
  {
   "cell_type": "code",
   "execution_count": 70,
   "id": "6106bd10",
   "metadata": {},
   "outputs": [],
   "source": [
    "weather_tool = tool(get_weather)\n"
   ]
  },
  {
   "cell_type": "code",
   "execution_count": 71,
   "id": "c29a4a6e",
   "metadata": {},
   "outputs": [
    {
     "data": {
      "text/plain": [
       "'get_weather'"
      ]
     },
     "execution_count": 71,
     "metadata": {},
     "output_type": "execute_result"
    }
   ],
   "source": [
    "weather_tool.name"
   ]
  },
  {
   "cell_type": "code",
   "execution_count": 72,
   "id": "870d2585",
   "metadata": {},
   "outputs": [
    {
     "data": {
      "text/plain": [
       "{'name': 'get_weather',\n",
       " 'description': '\\n    Fetches weather data for a given city using OpenWeatherMap API.\\n\\n    Args:\\n        city_name (str): Name of the city (e.g., \"London\").\\n\\n    Returns:\\n        dict: Weather data including temperature, weather condition, etc.\\n    ',\n",
       " 'parameters': {'properties': {}}}"
      ]
     },
     "execution_count": 72,
     "metadata": {},
     "output_type": "execute_result"
    }
   ],
   "source": [
    "json.loads(weather_tool.fn_signature)"
   ]
  },
  {
   "cell_type": "markdown",
   "id": "302cbf43",
   "metadata": {},
   "source": [
    "Let's create the agent tool now"
   ]
  },
  {
   "cell_type": "code",
   "execution_count": 73,
   "id": "f48c71b0",
   "metadata": {},
   "outputs": [],
   "source": [
    "tool_agent = ToolAgent(tools=[weather_tool])\n"
   ]
  },
  {
   "cell_type": "markdown",
   "id": "8adcbe99",
   "metadata": {},
   "source": [
    "Checking the tool flow, if we ask something absurd i.e. not related to tool it should not call the tool."
   ]
  },
  {
   "cell_type": "code",
   "execution_count": 74,
   "id": "ca12fa68",
   "metadata": {},
   "outputs": [
    {
     "data": {
      "text/plain": [
       "\"It seems like you didn't provide any specific information or task for me to check. If you could provide more context or clarify what you need me to check, I'll do my best to assist you.\""
      ]
     },
     "execution_count": 74,
     "metadata": {},
     "output_type": "execute_result"
    }
   ],
   "source": [
    "output = tool_agent.run(user_msg=\"just check\")\n",
    "output\n"
   ]
  },
  {
   "cell_type": "code",
   "execution_count": null,
   "id": "e1de88ea",
   "metadata": {},
   "outputs": [],
   "source": [
    "output = tool_agent.run(user_msg=\"weather at delhi\")\n",
    "print(output)"
   ]
  }
 ],
 "metadata": {
  "kernelspec": {
   "display_name": "agentic-patterns-WlAbDZ4N-py3.12",
   "language": "python",
   "name": "python3"
  },
  "language_info": {
   "codemirror_mode": {
    "name": "ipython",
    "version": 3
   },
   "file_extension": ".py",
   "mimetype": "text/x-python",
   "name": "python",
   "nbconvert_exporter": "python",
   "pygments_lexer": "ipython3",
   "version": "3.12.0"
  }
 },
 "nbformat": 4,
 "nbformat_minor": 5
}
