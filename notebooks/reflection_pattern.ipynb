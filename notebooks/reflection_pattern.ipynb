{
 "cells": [
  {
   "cell_type": "code",
   "execution_count": 3,
   "metadata": {},
   "outputs": [],
   "source": [
    "import os\n",
    "from pprint import pprint\n",
    "from groq import Groq\n",
    "from dotenv import load_dotenv\n",
    "from IPython.display import display_markdown"
   ]
  },
  {
   "cell_type": "code",
   "execution_count": 4,
   "metadata": {},
   "outputs": [],
   "source": [
    "load_dotenv()\n",
    "\n",
    "client = Groq()"
   ]
  },
  {
   "cell_type": "code",
   "execution_count": 5,
   "metadata": {},
   "outputs": [],
   "source": [
    "generation_chat_block = [\n",
    "    {\n",
    "        \"role\": \"system\",\n",
    "        \"content\": \"You are a Python programmer tasked with generating high quality Python code.\"\n",
    "        \"Your task is to Generate the best content possible for the user's request. If the user provides critique,\" \n",
    "        \"respond with a revised version of your previous attempt.\"\n",
    "    }\n",
    "]"
   ]
  },
  {
   "cell_type": "code",
   "execution_count": 8,
   "metadata": {},
   "outputs": [],
   "source": [
    "generation_chat_block.append(\n",
    "    {\n",
    "        \"role\": \"user\",\n",
    "        \"content\": \"Generate a Python implementation of the Bubble Sort algorithm\"\n",
    "    }\n",
    ")"
   ]
  },
  {
   "cell_type": "code",
   "execution_count": 9,
   "metadata": {},
   "outputs": [],
   "source": [
    "bubblesort_code = client.chat.completions.create(\n",
    "    messages=generation_chat_block,\n",
    "    model=\"llama3-70b-8192\"\n",
    ").choices[0].message.content\n",
    "\n",
    "generation_chat_block.append(\n",
    "    {\n",
    "        \"role\": \"assistant\",\n",
    "        \"content\": bubblesort_code\n",
    "    }\n",
    ")"
   ]
  },
  {
   "cell_type": "code",
   "execution_count": 10,
   "metadata": {},
   "outputs": [
    {
     "data": {
      "text/markdown": [
       "Here's a Python implementation of the Bubble Sort algorithm:\n",
       "\n",
       "```python\n",
       "def bubble_sort(arr):\n",
       "    n = len(arr)\n",
       "\n",
       "    for i in range(n):\n",
       "        # Create a flag that will allow the function to terminate early if there's nothing left to sort\n",
       "        already_sorted = True\n",
       "\n",
       "        # Start looking at each item of the list one by one, comparing it with its adjacent value\n",
       "        for j in range(n - i - 1):\n",
       "            if arr[j] > arr[j + 1]:\n",
       "                # Swap values\n",
       "                arr[j], arr[j + 1] = arr[j + 1], arr[j]\n",
       "                # Since we had to swap two elements,\n",
       "                # we need to iterate over the list again.\n",
       "                already_sorted = False\n",
       "\n",
       "        # If there were no swaps during the last iteration,\n",
       "        # the list is already sorted, and we can terminate\n",
       "        if already_sorted:\n",
       "            break\n",
       "\n",
       "    return arr\n",
       "\n",
       "# Example usage\n",
       "arr = [64, 34, 25, 12, 22, 11, 90]\n",
       "sorted_arr = bubble_sort(arr)\n",
       "print(sorted_arr)\n",
       "```\n",
       "\n",
       "This implementation uses a flag, `already_sorted`, to check if any swaps were made during an iteration. If no swaps were made, it means the list is already sorted, and the function can terminate early. This optimization is not strictly necessary for the correctness of the algorithm, but it can significantly improve its performance on already-sorted or nearly-sorted lists."
      ]
     },
     "metadata": {},
     "output_type": "display_data"
    }
   ],
   "source": [
    "display_markdown(bubblesort_code, raw=True)"
   ]
  },
  {
   "cell_type": "markdown",
   "metadata": {},
   "source": [
    "**Reflection step**"
   ]
  },
  {
   "cell_type": "code",
   "execution_count": 11,
   "metadata": {},
   "outputs": [],
   "source": [
    "reflection_chat = [\n",
    "    {\n",
    "    \"role\": \"system\",\n",
    "    \"content\": \"You are an experienced computer scientist. You are tasked with generating critique and recommendations for the user's code\",\n",
    "    }\n",
    "]"
   ]
  },
  {
   "cell_type": "code",
   "execution_count": 12,
   "metadata": {},
   "outputs": [],
   "source": [
    "reflection_chat.append(\n",
    "    {\n",
    "        \"role\": \"user\",\n",
    "        \"content\": bubblesort_code\n",
    "    }\n",
    ")"
   ]
  },
  {
   "cell_type": "code",
   "execution_count": 14,
   "metadata": {},
   "outputs": [],
   "source": [
    "critique = client.chat.completions.create(\n",
    "    messages=reflection_chat,\n",
    "    model=\"llama3-70b-8192\"\n",
    ").choices[0].message.content"
   ]
  },
  {
   "cell_type": "code",
   "execution_count": 15,
   "metadata": {},
   "outputs": [
    {
     "data": {
      "text/markdown": [
       "Here is a critique and some recommendations for your code:\n",
       "\n",
       "**Code Critique:**\n",
       "\n",
       "1.  **Naming Conventions:** Your naming conventions are mostly correct, but there is a slight inconsistency. You've used both camelCase (`alreadySorted`) and underscore notation (`bubble_sort`) for function and variable names. It's better to stick to a single convention throughout the code. Python's PEP 8 style guide recommends using underscore notation for function and variable names.\n",
       "\n",
       "2.  **Function Documentation:** You've provided a good explanation of the Bubble Sort algorithm in the comments, but it would be more helpful to include a docstring within the function itself. This docstring should explain the purpose of the function, its parameters, and its return value.\n",
       "\n",
       "3.  **Code Readability:** The code is generally easy to read, but the inner loop could be improved for readability. You could consider extracting the swapping logic into a separate function or using a more descriptive variable name instead of `j`.\n",
       "\n",
       "**Recommendations:**\n",
       "\n",
       "1.  **Consistent Naming:** Change `already_sorted` to `alreadySorted` to maintain consistent naming conventions.\n",
       "\n",
       "2.  **Add Docstring:** Add a docstring to the `bubble_sort` function to provide a clear explanation of its purpose, parameters, and return value.\n",
       "\n",
       "3.  **Extract Swapping Logic:** Consider extracting the swapping logic into a separate function, such as `swap_elements`, to improve code readability and maintainability.\n",
       "\n",
       "4.  **Use Descriptive Variable Names:** Instead of using `j` as the variable name in the inner loop, consider using a more descriptive name like `current_index` or `element_index` to improve code readability.\n",
       "\n",
       "5.  **Error Handling:** While not necessary for the correctness of the algorithm, it's a good practice to include some error handling to ensure the function can handle unexpected input. For example, you could add a check to ensure the input is a list.\n",
       "\n",
       "Here's an updated version of your code incorporating these recommendations:\n",
       "\n",
       "```python\n",
       "def bubble_sort(arr):\n",
       "    \"\"\"\n",
       "    Sorts a list of elements in ascending order using the Bubble Sort algorithm.\n",
       "\n",
       "    Args:\n",
       "        arr (list): The list of elements to be sorted.\n",
       "\n",
       "    Returns:\n",
       "        list: The sorted list of elements.\n",
       "\n",
       "    Raises:\n",
       "        TypeError: If the input is not a list.\n",
       "    \"\"\"\n",
       "    if not isinstance(arr, list):\n",
       "        raise TypeError(\"Input must be a list\")\n",
       "\n",
       "    n = len(arr)\n",
       "\n",
       "    for i in range(n):\n",
       "        already_sorted = True\n",
       "\n",
       "        for current_index in range(n - i - 1):\n",
       "            if arr[current_index] > arr[current_index + 1]:\n",
       "                arr[current_index], arr[current_index + 1] = arr[current_index + 1], arr[current_index]\n",
       "                already_sorted = False\n",
       "\n",
       "        if already_sorted:\n",
       "            break\n",
       "\n",
       "    return arr\n",
       "\n",
       "# Example usage\n",
       "arr = [64, 34, 25, 12, 22, 11, 90]\n",
       "sorted_arr = bubble_sort(arr)\n",
       "print(sorted_arr)\n",
       "```\n",
       "\n",
       "This updated code incorporates the recommended changes to improve code readability, maintainability, and error handling."
      ]
     },
     "metadata": {},
     "output_type": "display_data"
    }
   ],
   "source": [
    "display_markdown(critique, raw=True)\n"
   ]
  },
  {
   "cell_type": "code",
   "execution_count": 16,
   "metadata": {},
   "outputs": [],
   "source": [
    "generation_chat_block.append( {\n",
    "        \"role\": \"user\",\n",
    "        \"content\": critique\n",
    "    })"
   ]
  },
  {
   "cell_type": "markdown",
   "metadata": {},
   "source": [
    "**Next Iteration**"
   ]
  },
  {
   "cell_type": "code",
   "execution_count": 18,
   "metadata": {},
   "outputs": [],
   "source": [
    "next_iter = client.chat.completions.create(\n",
    "    messages=generation_chat_block,\n",
    "    model=\"llama3-70b-8192\"\n",
    ").choices[0].message.content"
   ]
  },
  {
   "cell_type": "code",
   "execution_count": 19,
   "metadata": {},
   "outputs": [
    {
     "data": {
      "text/markdown": [
       "I appreciate the detailed critique and recommendations provided. Here's an updated implementation of the Bubble Sort algorithm in Python, incorporating the suggested improvements:\n",
       "\n",
       "```python\n",
       "def bubble_sort(arr):\n",
       "    \"\"\"\n",
       "    Sorts a list of elements in ascending order using the Bubble Sort algorithm.\n",
       "\n",
       "    Args:\n",
       "        arr (list): The list of elements to be sorted.\n",
       "\n",
       "    Returns:\n",
       "        list: The sorted list of elements.\n",
       "\n",
       "    Raises:\n",
       "        TypeError: If the input is not a list.\n",
       "    \"\"\"\n",
       "    if not isinstance(arr, list):\n",
       "        raise TypeError(\"Input must be a list\")\n",
       "\n",
       "    n = len(arr)\n",
       "\n",
       "    def swap_elements(list_, i, j):\n",
       "        \"\"\"\n",
       "        Swap two elements in the list.\n",
       "        \"\"\"\n",
       "        list_[i], list_[j] = list_[j], list_[i]\n",
       "\n",
       "    for i in range(n):\n",
       "        already_sorted = True\n",
       "\n",
       "        for current_index in range(n - i - 1):\n",
       "            if arr[current_index] > arr[current_index + 1]:\n",
       "                swap_elements(arr, current_index, current_index + 1)\n",
       "                already_sorted = False\n",
       "\n",
       "        if already_sorted:\n",
       "            break\n",
       "\n",
       "    return arr\n",
       "\n",
       "# Example usage\n",
       "arr = [64, 34, 25, 12, 22, 11, 90]\n",
       "sorted_arr = bubble_sort(arr)\n",
       "print(sorted_arr)\n",
       "```\n",
       "\n",
       "Changes made:\n",
       "\n",
       "*   Consistent naming conventions: I've updated the code to use underscore notation for function and variable names, as recommended by Python's PEP 8 style guide.\n",
       "*   Added docstring: A docstring has been added to the `bubble_sort` function to provide a clear explanation of its purpose, parameters, and return value.\n",
       "*   Extracted swapping logic: The swapping logic has been extracted into a separate `swap_elements` function to improve code readability and maintainability.\n",
       "*   Descriptive variable names: I've replaced `j` with `current_index` to make the code more readable.\n",
       "*   Error handling: A check has been added to ensure the input is a list, and a `TypeError` is raised if the input is not a list.\n",
       "\n",
       "These updates should improve the code's readability, maintainability, and error handling."
      ]
     },
     "metadata": {},
     "output_type": "display_data"
    }
   ],
   "source": [
    "display_markdown(next_iter, raw=True)\n"
   ]
  },
  {
   "cell_type": "markdown",
   "metadata": {},
   "source": [
    "## Testing Reflection Agent class ##"
   ]
  },
  {
   "cell_type": "code",
   "execution_count": null,
   "metadata": {},
   "outputs": [
    {
     "ename": "",
     "evalue": "",
     "output_type": "error",
     "traceback": [
      "\u001b[1;31mRunning cells with 'Python 3.12.0' requires the ipykernel package.\n",
      "\u001b[1;31m<a href='command:jupyter.createPythonEnvAndSelectController'>Create a Python Environment</a> with the required packages.\n",
      "\u001b[1;31mOr install 'ipykernel' using the command: 'c:/Python312/python.exe -m pip install ipykernel -U --user --force-reinstall'"
     ]
    }
   ],
   "source": [
    "from agentic_patterns import ReflectionAgent\n"
   ]
  }
 ],
 "metadata": {
  "kernelspec": {
   "display_name": "Python 3",
   "language": "python",
   "name": "python3"
  },
  "language_info": {
   "codemirror_mode": {
    "name": "ipython",
    "version": 3
   },
   "file_extension": ".py",
   "mimetype": "text/x-python",
   "name": "python",
   "nbconvert_exporter": "python",
   "pygments_lexer": "ipython3",
   "version": "3.12.0"
  }
 },
 "nbformat": 4,
 "nbformat_minor": 2
}
