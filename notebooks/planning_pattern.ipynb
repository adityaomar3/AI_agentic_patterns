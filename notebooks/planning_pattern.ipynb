{
 "cells": [
  {
   "cell_type": "markdown",
   "id": "aad96b8b",
   "metadata": {},
   "source": [
    "**Planning Pattern**"
   ]
  },
  {
   "cell_type": "code",
   "execution_count": 2,
   "id": "e0fa9604",
   "metadata": {},
   "outputs": [],
   "source": [
    "import os\n",
    "import re\n",
    "import math\n",
    "import json\n",
    "from dotenv import load_dotenv\n",
    "\n",
    "from groq import Groq\n",
    "\n",
    "from agentic_patterns.tool_pattern.tool import tool\n",
    "from agentic_patterns.utils.extraction import extract_tag_content\n",
    "\n",
    "\n",
    "# Remember to load the environment variables. You should have the Groq API Key in there :)\n",
    "load_dotenv()\n",
    "\n",
    "MODEL = \"llama-3.3-70b-versatile\"\n",
    "GROQ_CLIENT = Groq()"
   ]
  },
  {
   "cell_type": "code",
   "execution_count": 3,
   "id": "fe0a1c46",
   "metadata": {},
   "outputs": [],
   "source": [
    "# Define the System Prompt as a constant\n",
    "REACT_SYSTEM_PROMPT = \"\"\"\n",
    "You are a function calling AI model. You operate by running a loop with the following steps: Thought, Action, Observation.\n",
    "You are provided with function signatures within <tools></tools> XML tags.\n",
    "You may call one or more functions to assist with the user query. Don' make assumptions about what values to plug\n",
    "into functions. Pay special attention to the properties 'types'. You should use those types as in a Python dict.\n",
    "\n",
    "For each function call return a json object with function name and arguments within <tool_call></tool_call> XML tags as follows:\n",
    "\n",
    "<tool_call>\n",
    "{\"name\": <function-name>,\"arguments\": <args-dict>, \"id\": <monotonically-increasing-id>}\n",
    "</tool_call>\n",
    "\n",
    "Here are the available tools / actions:\n",
    "\n",
    "<tools> \n",
    "%s\n",
    "</tools>\n",
    "\"\"\""
   ]
  },
  {
   "cell_type": "code",
   "execution_count": 4,
   "id": "65095dcd",
   "metadata": {},
   "outputs": [],
   "source": [
    "@tool\n",
    "def sum_two_elements(a: int, b: int) -> int:\n",
    "    \"\"\"\n",
    "    Computes the sum of two integers.\n",
    "\n",
    "    Args:\n",
    "        a (int): The first integer to be summed.\n",
    "        b (int): The second integer to be summed.\n",
    "\n",
    "    Returns:\n",
    "        int: The sum of `a` and `b`.\n",
    "    \"\"\"\n",
    "    return a + b\n",
    "\n",
    "\n",
    "@tool\n",
    "def multiply_two_elements(a: int, b: int) -> int:\n",
    "    \"\"\"\n",
    "    Multiplies two integers.\n",
    "\n",
    "    Args:\n",
    "        a (int): The first integer to multiply.\n",
    "        b (int): The second integer to multiply.\n",
    "\n",
    "    Returns:\n",
    "        int: The product of `a` and `b`.\n",
    "    \"\"\"\n",
    "    return a * b\n",
    "\n",
    "@tool\n",
    "def compute_log(x: int) -> float | str:\n",
    "    \"\"\"\n",
    "    Computes the logarithm of an integer `x` with an optional base.\n",
    "\n",
    "    Args:\n",
    "        x (int): The integer value for which the logarithm is computed. Must be greater than 0.\n",
    "\n",
    "    Returns:\n",
    "        float: The logarithm of `x` to the specified `base`.\n",
    "    \"\"\"\n",
    "    if x <= 0:\n",
    "        return \"Logarithm is undefined for values less than or equal to 0.\"\n",
    "    \n",
    "    return math.log(x)\n",
    "\n",
    "\n",
    "available_tools = {\n",
    "    \"sum_two_elements\": sum_two_elements,\n",
    "    \"multiply_two_elements\": multiply_two_elements,\n",
    "    \"compute_log\": compute_log\n",
    "}"
   ]
  },
  {
   "cell_type": "markdown",
   "id": "8a7aa565",
   "metadata": {},
   "source": [
    "concatenating the tool signature and add them to the system prompt"
   ]
  },
  {
   "cell_type": "code",
   "execution_count": 5,
   "id": "dfb3293a",
   "metadata": {},
   "outputs": [],
   "source": [
    "tools_signature = sum_two_elements.fn_signature + \",\\n\" + multiply_two_elements.fn_signature + \",\\n\" + compute_log.fn_signature\n"
   ]
  },
  {
   "cell_type": "code",
   "execution_count": 6,
   "id": "8904bcc3",
   "metadata": {},
   "outputs": [
    {
     "name": "stdout",
     "output_type": "stream",
     "text": [
      "{\"name\": \"sum_two_elements\", \"description\": \"\\n    Computes the sum of two integers.\\n\\n    Args:\\n        a (int): The first integer to be summed.\\n        b (int): The second integer to be summed.\\n\\n    Returns:\\n        int: The sum of `a` and `b`.\\n    \", \"parameters\": {\"properties\": {\"a\": {\"type\": \"int\"}, \"b\": {\"type\": \"int\"}}}},\n",
      "{\"name\": \"multiply_two_elements\", \"description\": \"\\n    Multiplies two integers.\\n\\n    Args:\\n        a (int): The first integer to multiply.\\n        b (int): The second integer to multiply.\\n\\n    Returns:\\n        int: The product of `a` and `b`.\\n    \", \"parameters\": {\"properties\": {\"a\": {\"type\": \"int\"}, \"b\": {\"type\": \"int\"}}}},\n",
      "{\"name\": \"compute_log\", \"description\": \"\\n    Computes the logarithm of an integer `x` with an optional base.\\n\\n    Args:\\n        x (int): The integer value for which the logarithm is computed. Must be greater than 0.\\n\\n    Returns:\\n        float: The logarithm of `x` to the specified `base`.\\n    \", \"parameters\": {\"properties\": {\"x\": {\"type\": \"int\"}}}}\n"
     ]
    }
   ],
   "source": [
    "print(tools_signature)\n"
   ]
  },
  {
   "cell_type": "code",
   "execution_count": 7,
   "id": "f5dac946",
   "metadata": {},
   "outputs": [],
   "source": [
    "REACT_SYSTEM_PROMPT = REACT_SYSTEM_PROMPT % tools_signature\n"
   ]
  },
  {
   "cell_type": "code",
   "execution_count": 8,
   "id": "eb44321a",
   "metadata": {},
   "outputs": [
    {
     "name": "stdout",
     "output_type": "stream",
     "text": [
      "\n",
      "You are a function calling AI model. You operate by running a loop with the following steps: Thought, Action, Observation.\n",
      "You are provided with function signatures within <tools></tools> XML tags.\n",
      "You may call one or more functions to assist with the user query. Don' make assumptions about what values to plug\n",
      "into functions. Pay special attention to the properties 'types'. You should use those types as in a Python dict.\n",
      "\n",
      "For each function call return a json object with function name and arguments within <tool_call></tool_call> XML tags as follows:\n",
      "\n",
      "<tool_call>\n",
      "{\"name\": <function-name>,\"arguments\": <args-dict>, \"id\": <monotonically-increasing-id>}\n",
      "</tool_call>\n",
      "\n",
      "Here are the available tools / actions:\n",
      "\n",
      "<tools> \n",
      "{\"name\": \"sum_two_elements\", \"description\": \"\\n    Computes the sum of two integers.\\n\\n    Args:\\n        a (int): The first integer to be summed.\\n        b (int): The second integer to be summed.\\n\\n    Returns:\\n        int: The sum of `a` and `b`.\\n    \", \"parameters\": {\"properties\": {\"a\": {\"type\": \"int\"}, \"b\": {\"type\": \"int\"}}}},\n",
      "{\"name\": \"multiply_two_elements\", \"description\": \"\\n    Multiplies two integers.\\n\\n    Args:\\n        a (int): The first integer to multiply.\\n        b (int): The second integer to multiply.\\n\\n    Returns:\\n        int: The product of `a` and `b`.\\n    \", \"parameters\": {\"properties\": {\"a\": {\"type\": \"int\"}, \"b\": {\"type\": \"int\"}}}},\n",
      "{\"name\": \"compute_log\", \"description\": \"\\n    Computes the logarithm of an integer `x` with an optional base.\\n\\n    Args:\\n        x (int): The integer value for which the logarithm is computed. Must be greater than 0.\\n\\n    Returns:\\n        float: The logarithm of `x` to the specified `base`.\\n    \", \"parameters\": {\"properties\": {\"x\": {\"type\": \"int\"}}}}\n",
      "</tools>\n",
      "\n"
     ]
    }
   ],
   "source": [
    "print(REACT_SYSTEM_PROMPT)\n"
   ]
  },
  {
   "cell_type": "markdown",
   "id": "a3511e71",
   "metadata": {},
   "source": [
    "**ReAct Loop Step 1**"
   ]
  },
  {
   "cell_type": "code",
   "execution_count": 9,
   "id": "eb1458f2",
   "metadata": {},
   "outputs": [],
   "source": [
    "USER_QUESTION = \"I want to calculate the sum of 1234 and 5678 and multiply the result by 5. Then, I want to take the logarithm of this result\"\n",
    "chat_history = [\n",
    "    {\n",
    "        \"role\": \"system\",\n",
    "        \"content\": REACT_SYSTEM_PROMPT\n",
    "    },\n",
    "    {\n",
    "        \"role\": \"user\",\n",
    "        \"content\": f\"<question>{USER_QUESTION}</question>\"\n",
    "    }\n",
    "]"
   ]
  },
  {
   "cell_type": "code",
   "execution_count": 10,
   "id": "83e67def",
   "metadata": {},
   "outputs": [
    {
     "name": "stdout",
     "output_type": "stream",
     "text": [
      "To accomplish the task, we need to follow the order of operations specified: \n",
      "\n",
      "1. Calculate the sum of 1234 and 5678.\n",
      "2. Multiply the result by 5.\n",
      "3. Compute the logarithm of this result.\n",
      "\n",
      "First, let's calculate the sum of 1234 and 5678.\n",
      "\n",
      "<tool_call>\n",
      "{\"name\": \"sum_two_elements\", \"arguments\": {\"a\": 1234, \"b\": 5678}, \"id\": 1}\n",
      "</tool_call>\n",
      "\n",
      "Next, we'll assume the result of the sum is stored in a variable named \"sum_result\". We'll multiply this result by 5.\n",
      "\n",
      "<tool_call>\n",
      "{\"name\": \"multiply_two_elements\", \"arguments\": {\"a\": \"sum_result\", \"b\": 5}, \"id\": 2}\n",
      "</tool_call>\n",
      "\n",
      "Then, we'll assume the result of the multiplication is stored in a variable named \"multiplication_result\". We'll compute the logarithm of this result.\n",
      "\n",
      "<tool_call>\n",
      "{\"name\": \"compute_log\", \"arguments\": {\"x\": \"multiplication_result\"}, \"id\": 3}\n",
      "</tool_call>\n"
     ]
    }
   ],
   "source": [
    "output = GROQ_CLIENT.chat.completions.create(\n",
    "    messages=chat_history,\n",
    "    model=MODEL\n",
    ").choices[0].message.content\n",
    "\n",
    "print(output)"
   ]
  },
  {
   "cell_type": "code",
   "execution_count": 11,
   "id": "f01fb10d",
   "metadata": {},
   "outputs": [],
   "source": [
    "chat_history.append(\n",
    "    {\n",
    "        \"role\": \"assistant\",\n",
    "        \"content\": output\n",
    "    }\n",
    ")"
   ]
  },
  {
   "cell_type": "markdown",
   "id": "b128a7c8",
   "metadata": {},
   "source": [
    "**Loop 2**"
   ]
  },
  {
   "cell_type": "code",
   "execution_count": 12,
   "id": "86d50e45",
   "metadata": {},
   "outputs": [],
   "source": [
    "tool_call = extract_tag_content(output, tag=\"tool_call\")\n"
   ]
  },
  {
   "cell_type": "code",
   "execution_count": 13,
   "id": "209a1841",
   "metadata": {},
   "outputs": [
    {
     "data": {
      "text/plain": [
       "TagContentResult(content=['{\"name\": \"sum_two_elements\", \"arguments\": {\"a\": 1234, \"b\": 5678}, \"id\": 1}', '{\"name\": \"multiply_two_elements\", \"arguments\": {\"a\": \"sum_result\", \"b\": 5}, \"id\": 2}', '{\"name\": \"compute_log\", \"arguments\": {\"x\": \"multiplication_result\"}, \"id\": 3}'], found=True)"
      ]
     },
     "execution_count": 13,
     "metadata": {},
     "output_type": "execute_result"
    }
   ],
   "source": [
    "tool_call\n"
   ]
  },
  {
   "cell_type": "code",
   "execution_count": 14,
   "id": "4c733b26",
   "metadata": {},
   "outputs": [],
   "source": [
    "tool_call = json.loads(tool_call.content[0])\n"
   ]
  },
  {
   "cell_type": "code",
   "execution_count": 15,
   "id": "279d56c0",
   "metadata": {},
   "outputs": [
    {
     "data": {
      "text/plain": [
       "{'name': 'sum_two_elements', 'arguments': {'a': 1234, 'b': 5678}, 'id': 1}"
      ]
     },
     "execution_count": 15,
     "metadata": {},
     "output_type": "execute_result"
    }
   ],
   "source": [
    "tool_call\n"
   ]
  },
  {
   "cell_type": "code",
   "execution_count": 16,
   "id": "d056847e",
   "metadata": {},
   "outputs": [
    {
     "data": {
      "text/plain": [
       "<agentic_patterns.tool_pattern.tool.Tool at 0x29651f61fd0>"
      ]
     },
     "execution_count": 16,
     "metadata": {},
     "output_type": "execute_result"
    }
   ],
   "source": [
    "available_tools[tool_call[\"name\"]]"
   ]
  },
  {
   "cell_type": "code",
   "execution_count": 17,
   "id": "1b463c7f",
   "metadata": {},
   "outputs": [
    {
     "data": {
      "text/plain": [
       "6912"
      ]
     },
     "execution_count": 17,
     "metadata": {},
     "output_type": "execute_result"
    }
   ],
   "source": [
    "tool_result = available_tools[tool_call[\"name\"]].run(**tool_call[\"arguments\"])\n",
    "tool_result"
   ]
  },
  {
   "cell_type": "code",
   "execution_count": 18,
   "id": "d9e9e3f6",
   "metadata": {},
   "outputs": [],
   "source": [
    "assert tool_result == 1234 + 5678\n",
    "chat_history.append(\n",
    "    {\n",
    "        \"role\": \"user\",\n",
    "        \"content\": f\"<observation>{tool_result}</observation>\"\n",
    "    }\n",
    ")"
   ]
  },
  {
   "cell_type": "code",
   "execution_count": 19,
   "id": "8e81f45a",
   "metadata": {},
   "outputs": [
    {
     "data": {
      "text/plain": [
       "[{'role': 'system',\n",
       "  'content': '\\nYou are a function calling AI model. You operate by running a loop with the following steps: Thought, Action, Observation.\\nYou are provided with function signatures within <tools></tools> XML tags.\\nYou may call one or more functions to assist with the user query. Don\\' make assumptions about what values to plug\\ninto functions. Pay special attention to the properties \\'types\\'. You should use those types as in a Python dict.\\n\\nFor each function call return a json object with function name and arguments within <tool_call></tool_call> XML tags as follows:\\n\\n<tool_call>\\n{\"name\": <function-name>,\"arguments\": <args-dict>, \"id\": <monotonically-increasing-id>}\\n</tool_call>\\n\\nHere are the available tools / actions:\\n\\n<tools> \\n{\"name\": \"sum_two_elements\", \"description\": \"\\\\n    Computes the sum of two integers.\\\\n\\\\n    Args:\\\\n        a (int): The first integer to be summed.\\\\n        b (int): The second integer to be summed.\\\\n\\\\n    Returns:\\\\n        int: The sum of `a` and `b`.\\\\n    \", \"parameters\": {\"properties\": {\"a\": {\"type\": \"int\"}, \"b\": {\"type\": \"int\"}}}},\\n{\"name\": \"multiply_two_elements\", \"description\": \"\\\\n    Multiplies two integers.\\\\n\\\\n    Args:\\\\n        a (int): The first integer to multiply.\\\\n        b (int): The second integer to multiply.\\\\n\\\\n    Returns:\\\\n        int: The product of `a` and `b`.\\\\n    \", \"parameters\": {\"properties\": {\"a\": {\"type\": \"int\"}, \"b\": {\"type\": \"int\"}}}},\\n{\"name\": \"compute_log\", \"description\": \"\\\\n    Computes the logarithm of an integer `x` with an optional base.\\\\n\\\\n    Args:\\\\n        x (int): The integer value for which the logarithm is computed. Must be greater than 0.\\\\n\\\\n    Returns:\\\\n        float: The logarithm of `x` to the specified `base`.\\\\n    \", \"parameters\": {\"properties\": {\"x\": {\"type\": \"int\"}}}}\\n</tools>\\n'},\n",
       " {'role': 'user',\n",
       "  'content': '<question>I want to calculate the sum of 1234 and 5678 and multiply the result by 5. Then, I want to take the logarithm of this result</question>'},\n",
       " {'role': 'assistant',\n",
       "  'content': 'To accomplish the task, we need to follow the order of operations specified: \\n\\n1. Calculate the sum of 1234 and 5678.\\n2. Multiply the result by 5.\\n3. Compute the logarithm of this result.\\n\\nFirst, let\\'s calculate the sum of 1234 and 5678.\\n\\n<tool_call>\\n{\"name\": \"sum_two_elements\", \"arguments\": {\"a\": 1234, \"b\": 5678}, \"id\": 1}\\n</tool_call>\\n\\nNext, we\\'ll assume the result of the sum is stored in a variable named \"sum_result\". We\\'ll multiply this result by 5.\\n\\n<tool_call>\\n{\"name\": \"multiply_two_elements\", \"arguments\": {\"a\": \"sum_result\", \"b\": 5}, \"id\": 2}\\n</tool_call>\\n\\nThen, we\\'ll assume the result of the multiplication is stored in a variable named \"multiplication_result\". We\\'ll compute the logarithm of this result.\\n\\n<tool_call>\\n{\"name\": \"compute_log\", \"arguments\": {\"x\": \"multiplication_result\"}, \"id\": 3}\\n</tool_call>'},\n",
       " {'role': 'user', 'content': '<observation>6912</observation>'}]"
      ]
     },
     "execution_count": 19,
     "metadata": {},
     "output_type": "execute_result"
    }
   ],
   "source": [
    "chat_history"
   ]
  },
  {
   "cell_type": "markdown",
   "id": "53c65e13",
   "metadata": {},
   "source": [
    "**loop 3**"
   ]
  },
  {
   "cell_type": "code",
   "execution_count": 20,
   "id": "391bea36",
   "metadata": {},
   "outputs": [
    {
     "name": "stdout",
     "output_type": "stream",
     "text": [
      "With the result of the sum of 1234 and 5678 being 6912, we can proceed with the next step, which is to multiply this result by 5.\n",
      "\n",
      "<tool_call>\n",
      "{\"name\": \"multiply_two_elements\", \"arguments\": {\"a\": 6912, \"b\": 5}, \"id\": 4}\n",
      "</tool_call>\n"
     ]
    }
   ],
   "source": [
    "output = GROQ_CLIENT.chat.completions.create(\n",
    "    messages=chat_history,\n",
    "    model=MODEL\n",
    ").choices[0].message.content\n",
    "\n",
    "print(output)"
   ]
  },
  {
   "cell_type": "code",
   "execution_count": 21,
   "id": "c73d8f95",
   "metadata": {},
   "outputs": [],
   "source": [
    "chat_history.append(\n",
    "    {\n",
    "        \"role\": \"assistant\",\n",
    "        \"content\": output\n",
    "    }\n",
    ")"
   ]
  },
  {
   "cell_type": "markdown",
   "id": "5eb436d7",
   "metadata": {},
   "source": [
    "**loop 4**"
   ]
  },
  {
   "cell_type": "code",
   "execution_count": 22,
   "id": "c7126772",
   "metadata": {},
   "outputs": [],
   "source": [
    "tool_call = extract_tag_content(output, tag=\"tool_call\")\n",
    "tool_call = json.loads(tool_call.content[0])\n",
    "tool_result = available_tools[tool_call[\"name\"]].run(**tool_call[\"arguments\"])"
   ]
  },
  {
   "cell_type": "code",
   "execution_count": 23,
   "id": "6e5b5278",
   "metadata": {},
   "outputs": [
    {
     "data": {
      "text/plain": [
       "34560"
      ]
     },
     "execution_count": 23,
     "metadata": {},
     "output_type": "execute_result"
    }
   ],
   "source": [
    "tool_result\n"
   ]
  },
  {
   "cell_type": "code",
   "execution_count": 24,
   "id": "d4c1d361",
   "metadata": {},
   "outputs": [],
   "source": [
    "assert tool_result == (1234 + 5678) * 5\n"
   ]
  },
  {
   "cell_type": "code",
   "execution_count": 25,
   "id": "a4e1fa39",
   "metadata": {},
   "outputs": [],
   "source": [
    "chat_history.append(\n",
    "    {\n",
    "        \"role\": \"user\",\n",
    "        \"content\": f\"<observation>{tool_result}</observation>\"\n",
    "    }\n",
    ")"
   ]
  },
  {
   "cell_type": "code",
   "execution_count": 26,
   "id": "c5b0f180",
   "metadata": {},
   "outputs": [
    {
     "data": {
      "text/plain": [
       "[{'role': 'system',\n",
       "  'content': '\\nYou are a function calling AI model. You operate by running a loop with the following steps: Thought, Action, Observation.\\nYou are provided with function signatures within <tools></tools> XML tags.\\nYou may call one or more functions to assist with the user query. Don\\' make assumptions about what values to plug\\ninto functions. Pay special attention to the properties \\'types\\'. You should use those types as in a Python dict.\\n\\nFor each function call return a json object with function name and arguments within <tool_call></tool_call> XML tags as follows:\\n\\n<tool_call>\\n{\"name\": <function-name>,\"arguments\": <args-dict>, \"id\": <monotonically-increasing-id>}\\n</tool_call>\\n\\nHere are the available tools / actions:\\n\\n<tools> \\n{\"name\": \"sum_two_elements\", \"description\": \"\\\\n    Computes the sum of two integers.\\\\n\\\\n    Args:\\\\n        a (int): The first integer to be summed.\\\\n        b (int): The second integer to be summed.\\\\n\\\\n    Returns:\\\\n        int: The sum of `a` and `b`.\\\\n    \", \"parameters\": {\"properties\": {\"a\": {\"type\": \"int\"}, \"b\": {\"type\": \"int\"}}}},\\n{\"name\": \"multiply_two_elements\", \"description\": \"\\\\n    Multiplies two integers.\\\\n\\\\n    Args:\\\\n        a (int): The first integer to multiply.\\\\n        b (int): The second integer to multiply.\\\\n\\\\n    Returns:\\\\n        int: The product of `a` and `b`.\\\\n    \", \"parameters\": {\"properties\": {\"a\": {\"type\": \"int\"}, \"b\": {\"type\": \"int\"}}}},\\n{\"name\": \"compute_log\", \"description\": \"\\\\n    Computes the logarithm of an integer `x` with an optional base.\\\\n\\\\n    Args:\\\\n        x (int): The integer value for which the logarithm is computed. Must be greater than 0.\\\\n\\\\n    Returns:\\\\n        float: The logarithm of `x` to the specified `base`.\\\\n    \", \"parameters\": {\"properties\": {\"x\": {\"type\": \"int\"}}}}\\n</tools>\\n'},\n",
       " {'role': 'user',\n",
       "  'content': '<question>I want to calculate the sum of 1234 and 5678 and multiply the result by 5. Then, I want to take the logarithm of this result</question>'},\n",
       " {'role': 'assistant',\n",
       "  'content': 'To accomplish the task, we need to follow the order of operations specified: \\n\\n1. Calculate the sum of 1234 and 5678.\\n2. Multiply the result by 5.\\n3. Compute the logarithm of this result.\\n\\nFirst, let\\'s calculate the sum of 1234 and 5678.\\n\\n<tool_call>\\n{\"name\": \"sum_two_elements\", \"arguments\": {\"a\": 1234, \"b\": 5678}, \"id\": 1}\\n</tool_call>\\n\\nNext, we\\'ll assume the result of the sum is stored in a variable named \"sum_result\". We\\'ll multiply this result by 5.\\n\\n<tool_call>\\n{\"name\": \"multiply_two_elements\", \"arguments\": {\"a\": \"sum_result\", \"b\": 5}, \"id\": 2}\\n</tool_call>\\n\\nThen, we\\'ll assume the result of the multiplication is stored in a variable named \"multiplication_result\". We\\'ll compute the logarithm of this result.\\n\\n<tool_call>\\n{\"name\": \"compute_log\", \"arguments\": {\"x\": \"multiplication_result\"}, \"id\": 3}\\n</tool_call>'},\n",
       " {'role': 'user', 'content': '<observation>6912</observation>'},\n",
       " {'role': 'assistant',\n",
       "  'content': 'With the result of the sum of 1234 and 5678 being 6912, we can proceed with the next step, which is to multiply this result by 5.\\n\\n<tool_call>\\n{\"name\": \"multiply_two_elements\", \"arguments\": {\"a\": 6912, \"b\": 5}, \"id\": 4}\\n</tool_call>'},\n",
       " {'role': 'user', 'content': '<observation>34560</observation>'}]"
      ]
     },
     "execution_count": 26,
     "metadata": {},
     "output_type": "execute_result"
    }
   ],
   "source": [
    "chat_history"
   ]
  },
  {
   "cell_type": "markdown",
   "id": "5f2fea43",
   "metadata": {},
   "source": [
    "loop 5"
   ]
  },
  {
   "cell_type": "code",
   "execution_count": 27,
   "id": "d4b636f9",
   "metadata": {},
   "outputs": [
    {
     "name": "stdout",
     "output_type": "stream",
     "text": [
      "With the result of the multiplication being 34560, we can now proceed to compute the logarithm of this result.\n",
      "\n",
      "<tool_call>\n",
      "{\"name\": \"compute_log\", \"arguments\": {\"x\": 34560}, \"id\": 5}\n",
      "</tool_call>\n"
     ]
    }
   ],
   "source": [
    "output = GROQ_CLIENT.chat.completions.create(\n",
    "    messages=chat_history,\n",
    "    model=MODEL\n",
    ").choices[0].message.content\n",
    "\n",
    "print(output)"
   ]
  },
  {
   "cell_type": "code",
   "execution_count": 28,
   "id": "c6776a34",
   "metadata": {},
   "outputs": [],
   "source": [
    "chat_history.append(\n",
    "    {\n",
    "        \"role\": \"assistant\",\n",
    "        \"content\": output\n",
    "    }\n",
    ")"
   ]
  },
  {
   "cell_type": "markdown",
   "id": "413c7753",
   "metadata": {},
   "source": [
    "ReAct Loop 6"
   ]
  },
  {
   "cell_type": "code",
   "execution_count": 29,
   "id": "f1ff5734",
   "metadata": {},
   "outputs": [],
   "source": [
    "tool_call = extract_tag_content(output, tag=\"tool_call\")\n",
    "tool_call = json.loads(tool_call.content[0])\n",
    "tool_result = available_tools[tool_call[\"name\"]].run(**tool_call[\"arguments\"])"
   ]
  },
  {
   "cell_type": "code",
   "execution_count": 30,
   "id": "4b4367b5",
   "metadata": {},
   "outputs": [
    {
     "data": {
      "text/plain": [
       "10.450452222917992"
      ]
     },
     "execution_count": 30,
     "metadata": {},
     "output_type": "execute_result"
    }
   ],
   "source": [
    "tool_result\n"
   ]
  },
  {
   "cell_type": "code",
   "execution_count": 31,
   "id": "279b04a9",
   "metadata": {},
   "outputs": [],
   "source": [
    "chat_history.append(\n",
    "    {\n",
    "        \"role\": \"user\",\n",
    "        \"content\": f\"<observation>{tool_result}</observation>\"\n",
    "    }\n",
    ")"
   ]
  },
  {
   "cell_type": "code",
   "execution_count": 32,
   "id": "adeb5ee2",
   "metadata": {},
   "outputs": [
    {
     "name": "stdout",
     "output_type": "stream",
     "text": [
      "The logarithm of 34560 is approximately 10.450452222917992. This concludes the calculations as per the initial request: calculate the sum of 1234 and 5678, multiply the result by 5, and then take the logarithm of this result. The final result of these operations is 10.450452222917992.\n"
     ]
    }
   ],
   "source": [
    "output = GROQ_CLIENT.chat.completions.create(\n",
    "    messages=chat_history,\n",
    "    model=MODEL\n",
    ").choices[0].message.content\n",
    "\n",
    "print(output)"
   ]
  },
  {
   "cell_type": "markdown",
   "id": "b45d8d01",
   "metadata": {},
   "source": [
    "Testing reflection agent library"
   ]
  },
  {
   "cell_type": "code",
   "execution_count": 33,
   "id": "36572a3e",
   "metadata": {},
   "outputs": [],
   "source": [
    "from agentic_patterns.planning_pattern.react_agent import ReactAgent\n"
   ]
  },
  {
   "cell_type": "code",
   "execution_count": 34,
   "id": "3f264ecc",
   "metadata": {},
   "outputs": [],
   "source": [
    "agent = ReactAgent(tools=[sum_two_elements, multiply_two_elements, compute_log])\n"
   ]
  },
  {
   "cell_type": "code",
   "execution_count": 35,
   "id": "c07988ac",
   "metadata": {},
   "outputs": [
    {
     "name": "stdout",
     "output_type": "stream",
     "text": [
      "\u001b[35m\n",
      "Thought: []\n",
      "\u001b[32m\n",
      "Using Tool: sum_two_elements\n",
      "\u001b[32m\n",
      "Tool call dict: \n",
      "{'name': 'sum_two_elements', 'arguments': {'a': 1234, 'b': 5678}, 'id': 1}\n",
      "\u001b[32m\n",
      "Tool result: \n",
      "6912\n",
      "\u001b[32m\n",
      "Using Tool: multiply_two_elements\n",
      "\u001b[32m\n",
      "Tool call dict: \n",
      "{'name': 'multiply_two_elements', 'arguments': {'a': 6912, 'b': 5}, 'id': 2}\n",
      "\u001b[32m\n",
      "Tool result: \n",
      "34560\n",
      "\u001b[32m\n",
      "Using Tool: compute_log\n",
      "\u001b[32m\n",
      "Tool call dict: \n",
      "{'name': 'compute_log', 'arguments': {'x': 34560}, 'id': 3}\n",
      "\u001b[32m\n",
      "Tool result: \n",
      "10.450452222917992\n",
      "\u001b[34m\n",
      "Observations: {1: 6912, 2: 34560, 3: 10.450452222917992}\n",
      "\u001b[35m\n",
      "Thought: []\n",
      "\u001b[35m\n",
      "Thought: []\n",
      "\u001b[35m\n",
      "Thought: []\n",
      "\u001b[32m\n",
      "Using Tool: sum_two_elements\n",
      "\u001b[32m\n",
      "Tool call dict: \n",
      "{'name': 'sum_two_elements', 'arguments': {'a': 1234, 'b': 5678}, 'id': 1}\n",
      "\u001b[32m\n",
      "Tool result: \n",
      "6912\n",
      "\u001b[32m\n",
      "Using Tool: multiply_two_elements\n",
      "\u001b[32m\n",
      "Tool call dict: \n",
      "{'name': 'multiply_two_elements', 'arguments': {'a': 6912, 'b': 5}, 'id': 2}\n",
      "\u001b[32m\n",
      "Tool result: \n",
      "34560\n",
      "\u001b[32m\n",
      "Using Tool: compute_log\n",
      "\u001b[32m\n",
      "Tool call dict: \n",
      "{'name': 'compute_log', 'arguments': {'x': 34560}, 'id': 3}\n",
      "\u001b[32m\n",
      "Tool result: \n",
      "10.450452222917992\n",
      "\u001b[34m\n",
      "Observations: {1: 6912, 2: 34560, 3: 10.450452222917992}\n",
      "\u001b[35m\n",
      "Thought: []\n",
      "\u001b[35m\n",
      "Thought: []\n",
      "\u001b[35m\n",
      "Thought: []\n",
      "\u001b[35m\n",
      "Thought: []\n",
      "\u001b[35m\n",
      "Thought: []\n",
      "\u001b[35m\n",
      "Thought: []\n"
     ]
    },
    {
     "data": {
      "text/plain": [
       "'The final answer is: $\\\\boxed{10.450452222917992}$'"
      ]
     },
     "execution_count": 35,
     "metadata": {},
     "output_type": "execute_result"
    }
   ],
   "source": [
    "agent.run(user_msg=\"I want to calculate the sum of 1234 and 5678 and multiply the result by 5. Then, I want to take the logarithm of this result\")\n"
   ]
  }
 ],
 "metadata": {
  "kernelspec": {
   "display_name": "agentic-patterns-WlAbDZ4N-py3.12",
   "language": "python",
   "name": "python3"
  },
  "language_info": {
   "codemirror_mode": {
    "name": "ipython",
    "version": 3
   },
   "file_extension": ".py",
   "mimetype": "text/x-python",
   "name": "python",
   "nbconvert_exporter": "python",
   "pygments_lexer": "ipython3",
   "version": "3.12.0"
  }
 },
 "nbformat": 4,
 "nbformat_minor": 5
}
