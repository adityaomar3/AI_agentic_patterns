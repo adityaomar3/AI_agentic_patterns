{
 "cells": [
  {
   "cell_type": "markdown",
   "id": "aad96b8b",
   "metadata": {},
   "source": [
    "**Planning Pattern**"
   ]
  },
  {
   "cell_type": "code",
   "execution_count": 1,
   "id": "e0fa9604",
   "metadata": {},
   "outputs": [],
   "source": [
    "import os\n",
    "import re\n",
    "import math\n",
    "import json\n",
    "from dotenv import load_dotenv\n",
    "\n",
    "from groq import Groq\n",
    "\n",
    "from agentic_patterns.tool_pattern.tool import tool\n",
    "from agentic_patterns.utils.extraction import extract_tag_content\n",
    "\n",
    "\n",
    "# Remember to load the environment variables. You should have the Groq API Key in there :)\n",
    "load_dotenv()\n",
    "\n",
    "MODEL = \"llama-3.3-70b-versatile\"\n",
    "GROQ_CLIENT = Groq()"
   ]
  },
  {
   "cell_type": "code",
   "execution_count": 8,
   "id": "fe0a1c46",
   "metadata": {},
   "outputs": [],
   "source": [
    "# Define the System Prompt as a constant\n",
    "REACT_SYSTEM_PROMPT = \"\"\"\n",
    "You are a function calling AI model. You operate by running a loop with the following steps: Thought, Action, Observation.\n",
    "You are provided with function signatures within <tools></tools> XML tags.\n",
    "You may call one or more functions to assist with the user query. Don' make assumptions about what values to plug\n",
    "into functions. Pay special attention to the properties 'types'. You should use those types as in a Python dict.\n",
    "\n",
    "For each function call return a json object with function name and arguments within <tool_call></tool_call> XML tags as follows:\n",
    "\n",
    "<tool_call>\n",
    "{\"name\": <function-name>,\"arguments\": <args-dict>, \"id\": <monotonically-increasing-id>}\n",
    "</tool_call>\n",
    "\n",
    "Here are the available tools / actions:\n",
    "\n",
    "<tools> \n",
    "%s\n",
    "</tools>\n",
    "\"\"\""
   ]
  },
  {
   "cell_type": "code",
   "execution_count": 46,
   "id": "65095dcd",
   "metadata": {},
   "outputs": [],
   "source": [
    "@tool\n",
    "def sum_two_elements(a: int, b: int) -> int:\n",
    "    \"\"\"\n",
    "    Computes the sum of two integers.\n",
    "\n",
    "    Args:\n",
    "        a (int): The first integer to be summed.\n",
    "        b (int): The second integer to be summed.\n",
    "\n",
    "    Returns:\n",
    "        int: The sum of `a` and `b`.\n",
    "    \"\"\"\n",
    "    return a + b\n",
    "\n",
    "\n",
    "@tool\n",
    "def multiply_two_elements(a: int, b: int) -> int:\n",
    "    \"\"\"\n",
    "    Multiplies two integers.\n",
    "\n",
    "    Args:\n",
    "        a (int): The first integer to multiply.\n",
    "        b (int): The second integer to multiply.\n",
    "\n",
    "    Returns:\n",
    "        int: The product of `a` and `b`.\n",
    "    \"\"\"\n",
    "    return a * b\n",
    "\n",
    "@tool\n",
    "def compute_log(x: int) -> float | str:\n",
    "    \"\"\"\n",
    "    Computes the logarithm of an integer `x` with an optional base.\n",
    "\n",
    "    Args:\n",
    "        x (int): The integer value for which the logarithm is computed. Must be greater than 0.\n",
    "\n",
    "    Returns:\n",
    "        float: The logarithm of `x` to the specified `base`.\n",
    "    \"\"\"\n",
    "    if x <= 0:\n",
    "        return \"Logarithm is undefined for values less than or equal to 0.\"\n",
    "    \n",
    "    return math.log(x)\n",
    "\n",
    "\n",
    "available_tools = {\n",
    "    \"sum_two_elements\": sum_two_elements,\n",
    "    \"multiply_two_elements\": multiply_two_elements,\n",
    "    \"compute_log\": compute_log\n",
    "}"
   ]
  },
  {
   "cell_type": "markdown",
   "id": "8a7aa565",
   "metadata": {},
   "source": [
    "concatenating the tool signature and add them to the system prompt"
   ]
  },
  {
   "cell_type": "code",
   "execution_count": 47,
   "id": "dfb3293a",
   "metadata": {},
   "outputs": [],
   "source": [
    "tools_signature = sum_two_elements.fn_signature + \",\\n\" + multiply_two_elements.fn_signature + \",\\n\" + compute_log.fn_signature\n"
   ]
  },
  {
   "cell_type": "code",
   "execution_count": 48,
   "id": "8904bcc3",
   "metadata": {},
   "outputs": [
    {
     "name": "stdout",
     "output_type": "stream",
     "text": [
      "{\"name\": \"sum_two_elements\", \"description\": \"\\n    Computes the sum of two integers.\\n\\n    Args:\\n        a (int): The first integer to be summed.\\n        b (int): The second integer to be summed.\\n\\n    Returns:\\n        int: The sum of `a` and `b`.\\n    \", \"parameters\": {\"properties\": {\"a\": {\"type\": \"int\"}, \"b\": {\"type\": \"int\"}}}},\n",
      "{\"name\": \"multiply_two_elements\", \"description\": \"\\n    Multiplies two integers.\\n\\n    Args:\\n        a (int): The first integer to multiply.\\n        b (int): The second integer to multiply.\\n\\n    Returns:\\n        int: The product of `a` and `b`.\\n    \", \"parameters\": {\"properties\": {\"a\": {\"type\": \"int\"}, \"b\": {\"type\": \"int\"}}}},\n",
      "{\"name\": \"compute_log\", \"description\": \"\\n    Computes the logarithm of an integer `x` with an optional base.\\n\\n    Args:\\n        x (int): The integer value for which the logarithm is computed. Must be greater than 0.\\n\\n    Returns:\\n        float: The logarithm of `x` to the specified `base`.\\n    \", \"parameters\": {\"properties\": {\"x\": {\"type\": \"int\"}}}}\n"
     ]
    }
   ],
   "source": [
    "print(tools_signature)\n"
   ]
  },
  {
   "cell_type": "code",
   "execution_count": 50,
   "id": "f5dac946",
   "metadata": {},
   "outputs": [
    {
     "ename": "TypeError",
     "evalue": "not all arguments converted during string formatting",
     "output_type": "error",
     "traceback": [
      "\u001b[31m---------------------------------------------------------------------------\u001b[39m",
      "\u001b[31mTypeError\u001b[39m                                 Traceback (most recent call last)",
      "\u001b[36mCell\u001b[39m\u001b[36m \u001b[39m\u001b[32mIn[50]\u001b[39m\u001b[32m, line 1\u001b[39m\n\u001b[32m----> \u001b[39m\u001b[32m1\u001b[39m REACT_SYSTEM_PROMPT = \u001b[43mREACT_SYSTEM_PROMPT\u001b[49m\u001b[43m \u001b[49m\u001b[43m%\u001b[49m\u001b[43m \u001b[49m\u001b[43mtools_signature\u001b[49m\n",
      "\u001b[31mTypeError\u001b[39m: not all arguments converted during string formatting"
     ]
    }
   ],
   "source": [
    "REACT_SYSTEM_PROMPT = REACT_SYSTEM_PROMPT % tools_signature\n"
   ]
  },
  {
   "cell_type": "code",
   "execution_count": 51,
   "id": "eb44321a",
   "metadata": {},
   "outputs": [
    {
     "name": "stdout",
     "output_type": "stream",
     "text": [
      "\n",
      "You are a function calling AI model. You operate by running a loop with the following steps: Thought, Action, Observation.\n",
      "You are provided with function signatures within <tools></tools> XML tags.\n",
      "You may call one or more functions to assist with the user query. Don' make assumptions about what values to plug\n",
      "into functions. Pay special attention to the properties 'types'. You should use those types as in a Python dict.\n",
      "\n",
      "For each function call return a json object with function name and arguments within <tool_call></tool_call> XML tags as follows:\n",
      "\n",
      "<tool_call>\n",
      "{\"name\": <function-name>,\"arguments\": <args-dict>, \"id\": <monotonically-increasing-id>}\n",
      "</tool_call>\n",
      "\n",
      "Here are the available tools / actions:\n",
      "\n",
      "<tools> \n",
      "{\"name\": \"sum_two_elements\", \"description\": \"\\n    Computes the sum of two integers.\\n\\n    Args:\\n        a (int): The first integer to be summed.\\n        b (int): The second integer to be summed.\\n\\n    Returns:\\n        int: The sum of `a` and `b`.\\n    \", \"parameters\": {\"properties\": {\"a\": {\"type\": \"int\"}, \"b\": {\"type\": \"int\"}}}},\n",
      "{\"name\": \"multiply_two_elements\", \"description\": \"\\n    Multiplies two integers.\\n\\n    Args:\\n        a (int): The first integer to multiply.\\n        b (int): The second integer to multiply.\\n\\n    Returns:\\n        int: The product of `a` and `b`.\\n    \", \"parameters\": {\"properties\": {\"a\": {\"type\": \"int\"}, \"b\": {\"type\": \"int\"}}}},\n",
      "{\"name\": \"compute_log\", \"description\": \"\\n    Computes the logarithm of an integer `x` with an optional base.\\n\\n    Args:\\n        x (int): The integer value for which the logarithm is computed. Must be greater than 0.\\n\\n    Returns:\\n        float: The logarithm of `x` to the specified `base`.\\n    \", \"parameters\": {\"properties\": {\"x\": {\"type\": \"int\"}}}}\n",
      "</tools>\n",
      "\n"
     ]
    }
   ],
   "source": [
    "print(REACT_SYSTEM_PROMPT)\n"
   ]
  },
  {
   "cell_type": "markdown",
   "id": "a3511e71",
   "metadata": {},
   "source": [
    "**ReAct Loop Step 1**"
   ]
  },
  {
   "cell_type": "code",
   "execution_count": 52,
   "id": "eb1458f2",
   "metadata": {},
   "outputs": [],
   "source": [
    "USER_QUESTION = \"I want to calculate the sum of 1234 and 5678 and multiply the result by 5. Then, I want to take the logarithm of this result\"\n",
    "chat_history = [\n",
    "    {\n",
    "        \"role\": \"system\",\n",
    "        \"content\": REACT_SYSTEM_PROMPT\n",
    "    },\n",
    "    {\n",
    "        \"role\": \"user\",\n",
    "        \"content\": f\"<question>{USER_QUESTION}</question>\"\n",
    "    }\n",
    "]"
   ]
  },
  {
   "cell_type": "code",
   "execution_count": 53,
   "id": "83e67def",
   "metadata": {},
   "outputs": [
    {
     "name": "stdout",
     "output_type": "stream",
     "text": [
      "To calculate the sum of 1234 and 5678 and then multiply the result by 5, and finally take the logarithm of this result, we need to follow these steps:\n",
      "\n",
      "1. Calculate the sum of 1234 and 5678.\n",
      "2. Multiply the result by 5.\n",
      "3. Take the logarithm of the result from step 2.\n",
      "\n",
      "Here are the function calls to achieve this:\n",
      "\n",
      "<tool_call>\n",
      "{\"name\": \"sum_two_elements\",\"arguments\": {\"a\": 1234, \"b\": 5678}, \"id\": 1}\n",
      "</tool_call>\n",
      "\n",
      "Let's assume the result of the sum is stored in a variable 'sum_result'. \n",
      "\n",
      "Next, we multiply 'sum_result' by 5. However, since we don't have a function that directly multiplies by a constant, we'll use the \"multiply_two_elements\" function.\n",
      "\n",
      "<tool_call>\n",
      "{\"name\": \"multiply_two_elements\",\"arguments\": {\"a\": \"sum_result\", \"b\": 5}, \"id\": 2}\n",
      "</tool_call>\n",
      "\n",
      "Now, assuming the result of the multiplication is stored in 'multiply_result', we take the logarithm of 'multiply_result'.\n",
      "\n",
      "<tool_call>\n",
      "{\"name\": \"compute_log\",\"arguments\": {\"x\": \"multiply_result\"}, \"id\": 3}\n",
      "</tool_call>\n",
      "\n",
      "Please note that 'sum_result' and 'multiply_result' are placeholders for the actual results of the sum and multiplication operations, respectively. In a real implementation, these would be the actual values returned by the functions. \n",
      "\n",
      "Also, keep in mind that the 'compute_log' function does not specify a base for the logarithm, so it will likely use the natural logarithm (base e) by default. If you want to use a different base, you would need a function that allows you to specify the base.\n"
     ]
    }
   ],
   "source": [
    "output = GROQ_CLIENT.chat.completions.create(\n",
    "    messages=chat_history,\n",
    "    model=MODEL\n",
    ").choices[0].message.content\n",
    "\n",
    "print(output)"
   ]
  },
  {
   "cell_type": "code",
   "execution_count": 54,
   "id": "f01fb10d",
   "metadata": {},
   "outputs": [],
   "source": [
    "chat_history.append(\n",
    "    {\n",
    "        \"role\": \"assistant\",\n",
    "        \"content\": output\n",
    "    }\n",
    ")"
   ]
  },
  {
   "cell_type": "markdown",
   "id": "b128a7c8",
   "metadata": {},
   "source": [
    "**Loop 2**"
   ]
  },
  {
   "cell_type": "code",
   "execution_count": 55,
   "id": "86d50e45",
   "metadata": {},
   "outputs": [],
   "source": [
    "tool_call = extract_tag_content(output, tag=\"tool_call\")\n"
   ]
  },
  {
   "cell_type": "code",
   "execution_count": 56,
   "id": "209a1841",
   "metadata": {},
   "outputs": [
    {
     "data": {
      "text/plain": [
       "TagContentResult(content=['{\"name\": \"sum_two_elements\",\"arguments\": {\"a\": 1234, \"b\": 5678}, \"id\": 1}', '{\"name\": \"multiply_two_elements\",\"arguments\": {\"a\": \"sum_result\", \"b\": 5}, \"id\": 2}', '{\"name\": \"compute_log\",\"arguments\": {\"x\": \"multiply_result\"}, \"id\": 3}'], found=True)"
      ]
     },
     "execution_count": 56,
     "metadata": {},
     "output_type": "execute_result"
    }
   ],
   "source": [
    "tool_call\n"
   ]
  },
  {
   "cell_type": "code",
   "execution_count": 57,
   "id": "4c733b26",
   "metadata": {},
   "outputs": [],
   "source": [
    "tool_call = json.loads(tool_call.content[0])\n"
   ]
  },
  {
   "cell_type": "code",
   "execution_count": 58,
   "id": "279d56c0",
   "metadata": {},
   "outputs": [
    {
     "data": {
      "text/plain": [
       "{'name': 'sum_two_elements', 'arguments': {'a': 1234, 'b': 5678}, 'id': 1}"
      ]
     },
     "execution_count": 58,
     "metadata": {},
     "output_type": "execute_result"
    }
   ],
   "source": [
    "tool_call\n"
   ]
  },
  {
   "cell_type": "code",
   "execution_count": 59,
   "id": "d056847e",
   "metadata": {},
   "outputs": [
    {
     "data": {
      "text/plain": [
       "<agentic_patterns.tool_pattern.tool.Tool at 0x11cf92456d0>"
      ]
     },
     "execution_count": 59,
     "metadata": {},
     "output_type": "execute_result"
    }
   ],
   "source": [
    "available_tools[tool_call[\"name\"]]"
   ]
  },
  {
   "cell_type": "code",
   "execution_count": 64,
   "id": "1b463c7f",
   "metadata": {},
   "outputs": [
    {
     "data": {
      "text/plain": [
       "6912"
      ]
     },
     "execution_count": 64,
     "metadata": {},
     "output_type": "execute_result"
    }
   ],
   "source": [
    "tool_result = available_tools[tool_call[\"name\"]].run(**tool_call[\"arguments\"])\n",
    "tool_result"
   ]
  },
  {
   "cell_type": "code",
   "execution_count": 62,
   "id": "d9e9e3f6",
   "metadata": {},
   "outputs": [],
   "source": [
    "assert tool_result == 1234 + 5678\n",
    "chat_history.append(\n",
    "    {\n",
    "        \"role\": \"user\",\n",
    "        \"content\": f\"<observation>{tool_result}</observation>\"\n",
    "    }\n",
    ")"
   ]
  },
  {
   "cell_type": "code",
   "execution_count": 63,
   "id": "8e81f45a",
   "metadata": {},
   "outputs": [
    {
     "data": {
      "text/plain": [
       "[{'role': 'system',\n",
       "  'content': '\\nYou are a function calling AI model. You operate by running a loop with the following steps: Thought, Action, Observation.\\nYou are provided with function signatures within <tools></tools> XML tags.\\nYou may call one or more functions to assist with the user query. Don\\' make assumptions about what values to plug\\ninto functions. Pay special attention to the properties \\'types\\'. You should use those types as in a Python dict.\\n\\nFor each function call return a json object with function name and arguments within <tool_call></tool_call> XML tags as follows:\\n\\n<tool_call>\\n{\"name\": <function-name>,\"arguments\": <args-dict>, \"id\": <monotonically-increasing-id>}\\n</tool_call>\\n\\nHere are the available tools / actions:\\n\\n<tools> \\n{\"name\": \"sum_two_elements\", \"description\": \"\\\\n    Computes the sum of two integers.\\\\n\\\\n    Args:\\\\n        a (int): The first integer to be summed.\\\\n        b (int): The second integer to be summed.\\\\n\\\\n    Returns:\\\\n        int: The sum of `a` and `b`.\\\\n    \", \"parameters\": {\"properties\": {\"a\": {\"type\": \"int\"}, \"b\": {\"type\": \"int\"}}}},\\n{\"name\": \"multiply_two_elements\", \"description\": \"\\\\n    Multiplies two integers.\\\\n\\\\n    Args:\\\\n        a (int): The first integer to multiply.\\\\n        b (int): The second integer to multiply.\\\\n\\\\n    Returns:\\\\n        int: The product of `a` and `b`.\\\\n    \", \"parameters\": {\"properties\": {\"a\": {\"type\": \"int\"}, \"b\": {\"type\": \"int\"}}}},\\n{\"name\": \"compute_log\", \"description\": \"\\\\n    Computes the logarithm of an integer `x` with an optional base.\\\\n\\\\n    Args:\\\\n        x (int): The integer value for which the logarithm is computed. Must be greater than 0.\\\\n\\\\n    Returns:\\\\n        float: The logarithm of `x` to the specified `base`.\\\\n    \", \"parameters\": {\"properties\": {\"x\": {\"type\": \"int\"}}}}\\n</tools>\\n'},\n",
       " {'role': 'user',\n",
       "  'content': '<question>I want to calculate the sum of 1234 and 5678 and multiply the result by 5. Then, I want to take the logarithm of this result</question>'},\n",
       " {'role': 'assistant',\n",
       "  'content': 'To calculate the sum of 1234 and 5678 and then multiply the result by 5, and finally take the logarithm of this result, we need to follow these steps:\\n\\n1. Calculate the sum of 1234 and 5678.\\n2. Multiply the result by 5.\\n3. Take the logarithm of the result from step 2.\\n\\nHere are the function calls to achieve this:\\n\\n<tool_call>\\n{\"name\": \"sum_two_elements\",\"arguments\": {\"a\": 1234, \"b\": 5678}, \"id\": 1}\\n</tool_call>\\n\\nLet\\'s assume the result of the sum is stored in a variable \\'sum_result\\'. \\n\\nNext, we multiply \\'sum_result\\' by 5. However, since we don\\'t have a function that directly multiplies by a constant, we\\'ll use the \"multiply_two_elements\" function.\\n\\n<tool_call>\\n{\"name\": \"multiply_two_elements\",\"arguments\": {\"a\": \"sum_result\", \"b\": 5}, \"id\": 2}\\n</tool_call>\\n\\nNow, assuming the result of the multiplication is stored in \\'multiply_result\\', we take the logarithm of \\'multiply_result\\'.\\n\\n<tool_call>\\n{\"name\": \"compute_log\",\"arguments\": {\"x\": \"multiply_result\"}, \"id\": 3}\\n</tool_call>\\n\\nPlease note that \\'sum_result\\' and \\'multiply_result\\' are placeholders for the actual results of the sum and multiplication operations, respectively. In a real implementation, these would be the actual values returned by the functions. \\n\\nAlso, keep in mind that the \\'compute_log\\' function does not specify a base for the logarithm, so it will likely use the natural logarithm (base e) by default. If you want to use a different base, you would need a function that allows you to specify the base.'},\n",
       " {'role': 'user', 'content': '<observation>6912</observation>'}]"
      ]
     },
     "execution_count": 63,
     "metadata": {},
     "output_type": "execute_result"
    }
   ],
   "source": [
    "chat_history"
   ]
  },
  {
   "cell_type": "markdown",
   "id": "53c65e13",
   "metadata": {},
   "source": [
    "**loop 3**"
   ]
  },
  {
   "cell_type": "code",
   "execution_count": 65,
   "id": "391bea36",
   "metadata": {},
   "outputs": [
    {
     "name": "stdout",
     "output_type": "stream",
     "text": [
      "With the sum of 1234 and 5678 being 6912, we can now proceed to multiply this result by 5.\n",
      "\n",
      "<tool_call>\n",
      "{\"name\": \"multiply_two_elements\",\"arguments\": {\"a\": 6912, \"b\": 5}, \"id\": 4}\n",
      "</tool_call>\n"
     ]
    }
   ],
   "source": [
    "output = GROQ_CLIENT.chat.completions.create(\n",
    "    messages=chat_history,\n",
    "    model=MODEL\n",
    ").choices[0].message.content\n",
    "\n",
    "print(output)"
   ]
  },
  {
   "cell_type": "code",
   "execution_count": 66,
   "id": "c73d8f95",
   "metadata": {},
   "outputs": [],
   "source": [
    "chat_history.append(\n",
    "    {\n",
    "        \"role\": \"assistant\",\n",
    "        \"content\": output\n",
    "    }\n",
    ")"
   ]
  },
  {
   "cell_type": "markdown",
   "id": "5eb436d7",
   "metadata": {},
   "source": [
    "**loop 4**"
   ]
  },
  {
   "cell_type": "code",
   "execution_count": 67,
   "id": "c7126772",
   "metadata": {},
   "outputs": [],
   "source": [
    "tool_call = extract_tag_content(output, tag=\"tool_call\")\n",
    "tool_call = json.loads(tool_call.content[0])\n",
    "tool_result = available_tools[tool_call[\"name\"]].run(**tool_call[\"arguments\"])"
   ]
  },
  {
   "cell_type": "code",
   "execution_count": 68,
   "id": "6e5b5278",
   "metadata": {},
   "outputs": [
    {
     "data": {
      "text/plain": [
       "34560"
      ]
     },
     "execution_count": 68,
     "metadata": {},
     "output_type": "execute_result"
    }
   ],
   "source": [
    "tool_result\n"
   ]
  },
  {
   "cell_type": "code",
   "execution_count": 69,
   "id": "d4c1d361",
   "metadata": {},
   "outputs": [],
   "source": [
    "assert tool_result == (1234 + 5678) * 5\n"
   ]
  },
  {
   "cell_type": "code",
   "execution_count": 70,
   "id": "a4e1fa39",
   "metadata": {},
   "outputs": [],
   "source": [
    "chat_history.append(\n",
    "    {\n",
    "        \"role\": \"user\",\n",
    "        \"content\": f\"<observation>{tool_result}</observation>\"\n",
    "    }\n",
    ")"
   ]
  },
  {
   "cell_type": "code",
   "execution_count": 71,
   "id": "c5b0f180",
   "metadata": {},
   "outputs": [
    {
     "data": {
      "text/plain": [
       "[{'role': 'system',\n",
       "  'content': '\\nYou are a function calling AI model. You operate by running a loop with the following steps: Thought, Action, Observation.\\nYou are provided with function signatures within <tools></tools> XML tags.\\nYou may call one or more functions to assist with the user query. Don\\' make assumptions about what values to plug\\ninto functions. Pay special attention to the properties \\'types\\'. You should use those types as in a Python dict.\\n\\nFor each function call return a json object with function name and arguments within <tool_call></tool_call> XML tags as follows:\\n\\n<tool_call>\\n{\"name\": <function-name>,\"arguments\": <args-dict>, \"id\": <monotonically-increasing-id>}\\n</tool_call>\\n\\nHere are the available tools / actions:\\n\\n<tools> \\n{\"name\": \"sum_two_elements\", \"description\": \"\\\\n    Computes the sum of two integers.\\\\n\\\\n    Args:\\\\n        a (int): The first integer to be summed.\\\\n        b (int): The second integer to be summed.\\\\n\\\\n    Returns:\\\\n        int: The sum of `a` and `b`.\\\\n    \", \"parameters\": {\"properties\": {\"a\": {\"type\": \"int\"}, \"b\": {\"type\": \"int\"}}}},\\n{\"name\": \"multiply_two_elements\", \"description\": \"\\\\n    Multiplies two integers.\\\\n\\\\n    Args:\\\\n        a (int): The first integer to multiply.\\\\n        b (int): The second integer to multiply.\\\\n\\\\n    Returns:\\\\n        int: The product of `a` and `b`.\\\\n    \", \"parameters\": {\"properties\": {\"a\": {\"type\": \"int\"}, \"b\": {\"type\": \"int\"}}}},\\n{\"name\": \"compute_log\", \"description\": \"\\\\n    Computes the logarithm of an integer `x` with an optional base.\\\\n\\\\n    Args:\\\\n        x (int): The integer value for which the logarithm is computed. Must be greater than 0.\\\\n\\\\n    Returns:\\\\n        float: The logarithm of `x` to the specified `base`.\\\\n    \", \"parameters\": {\"properties\": {\"x\": {\"type\": \"int\"}}}}\\n</tools>\\n'},\n",
       " {'role': 'user',\n",
       "  'content': '<question>I want to calculate the sum of 1234 and 5678 and multiply the result by 5. Then, I want to take the logarithm of this result</question>'},\n",
       " {'role': 'assistant',\n",
       "  'content': 'To calculate the sum of 1234 and 5678 and then multiply the result by 5, and finally take the logarithm of this result, we need to follow these steps:\\n\\n1. Calculate the sum of 1234 and 5678.\\n2. Multiply the result by 5.\\n3. Take the logarithm of the result from step 2.\\n\\nHere are the function calls to achieve this:\\n\\n<tool_call>\\n{\"name\": \"sum_two_elements\",\"arguments\": {\"a\": 1234, \"b\": 5678}, \"id\": 1}\\n</tool_call>\\n\\nLet\\'s assume the result of the sum is stored in a variable \\'sum_result\\'. \\n\\nNext, we multiply \\'sum_result\\' by 5. However, since we don\\'t have a function that directly multiplies by a constant, we\\'ll use the \"multiply_two_elements\" function.\\n\\n<tool_call>\\n{\"name\": \"multiply_two_elements\",\"arguments\": {\"a\": \"sum_result\", \"b\": 5}, \"id\": 2}\\n</tool_call>\\n\\nNow, assuming the result of the multiplication is stored in \\'multiply_result\\', we take the logarithm of \\'multiply_result\\'.\\n\\n<tool_call>\\n{\"name\": \"compute_log\",\"arguments\": {\"x\": \"multiply_result\"}, \"id\": 3}\\n</tool_call>\\n\\nPlease note that \\'sum_result\\' and \\'multiply_result\\' are placeholders for the actual results of the sum and multiplication operations, respectively. In a real implementation, these would be the actual values returned by the functions. \\n\\nAlso, keep in mind that the \\'compute_log\\' function does not specify a base for the logarithm, so it will likely use the natural logarithm (base e) by default. If you want to use a different base, you would need a function that allows you to specify the base.'},\n",
       " {'role': 'user', 'content': '<observation>6912</observation>'},\n",
       " {'role': 'assistant',\n",
       "  'content': 'With the sum of 1234 and 5678 being 6912, we can now proceed to multiply this result by 5.\\n\\n<tool_call>\\n{\"name\": \"multiply_two_elements\",\"arguments\": {\"a\": 6912, \"b\": 5}, \"id\": 4}\\n</tool_call>'},\n",
       " {'role': 'user', 'content': '<observation>34560</observation>'}]"
      ]
     },
     "execution_count": 71,
     "metadata": {},
     "output_type": "execute_result"
    }
   ],
   "source": [
    "chat_history"
   ]
  },
  {
   "cell_type": "markdown",
   "id": "5f2fea43",
   "metadata": {},
   "source": [
    "loop 5"
   ]
  },
  {
   "cell_type": "code",
   "execution_count": 72,
   "id": "d4b636f9",
   "metadata": {},
   "outputs": [
    {
     "name": "stdout",
     "output_type": "stream",
     "text": [
      "With the result of multiplying 6912 by 5 being 34560, we can now proceed to take the logarithm of this result.\n",
      "\n",
      "<tool_call>\n",
      "{\"name\": \"compute_log\",\"arguments\": {\"x\": 34560}, \"id\": 5}\n",
      "</tool_call>\n"
     ]
    }
   ],
   "source": [
    "output = GROQ_CLIENT.chat.completions.create(\n",
    "    messages=chat_history,\n",
    "    model=MODEL\n",
    ").choices[0].message.content\n",
    "\n",
    "print(output)"
   ]
  },
  {
   "cell_type": "code",
   "execution_count": 73,
   "id": "c6776a34",
   "metadata": {},
   "outputs": [],
   "source": [
    "chat_history.append(\n",
    "    {\n",
    "        \"role\": \"assistant\",\n",
    "        \"content\": output\n",
    "    }\n",
    ")"
   ]
  },
  {
   "cell_type": "markdown",
   "id": "413c7753",
   "metadata": {},
   "source": [
    "ReAct Loop 6"
   ]
  },
  {
   "cell_type": "code",
   "execution_count": 74,
   "id": "f1ff5734",
   "metadata": {},
   "outputs": [],
   "source": [
    "tool_call = extract_tag_content(output, tag=\"tool_call\")\n",
    "tool_call = json.loads(tool_call.content[0])\n",
    "tool_result = available_tools[tool_call[\"name\"]].run(**tool_call[\"arguments\"])"
   ]
  },
  {
   "cell_type": "code",
   "execution_count": 75,
   "id": "4b4367b5",
   "metadata": {},
   "outputs": [
    {
     "data": {
      "text/plain": [
       "10.450452222917992"
      ]
     },
     "execution_count": 75,
     "metadata": {},
     "output_type": "execute_result"
    }
   ],
   "source": [
    "tool_result\n"
   ]
  },
  {
   "cell_type": "code",
   "execution_count": 76,
   "id": "279b04a9",
   "metadata": {},
   "outputs": [],
   "source": [
    "chat_history.append(\n",
    "    {\n",
    "        \"role\": \"user\",\n",
    "        \"content\": f\"<observation>{tool_result}</observation>\"\n",
    "    }\n",
    ")"
   ]
  },
  {
   "cell_type": "code",
   "execution_count": 77,
   "id": "adeb5ee2",
   "metadata": {},
   "outputs": [
    {
     "name": "stdout",
     "output_type": "stream",
     "text": [
      "The logarithm of 34560 is approximately 10.450452222917992. This concludes the calculation process.\n",
      "\n",
      "To recap, we:\n",
      "\n",
      "1. Calculated the sum of 1234 and 5678, which is 6912.\n",
      "2. Multiplied 6912 by 5, resulting in 34560.\n",
      "3. Took the logarithm of 34560, which is approximately 10.450452222917992.\n",
      "\n",
      "The process is now complete.\n"
     ]
    }
   ],
   "source": [
    "output = GROQ_CLIENT.chat.completions.create(\n",
    "    messages=chat_history,\n",
    "    model=MODEL\n",
    ").choices[0].message.content\n",
    "\n",
    "print(output)"
   ]
  }
 ],
 "metadata": {
  "kernelspec": {
   "display_name": "agentic-patterns-WlAbDZ4N-py3.12",
   "language": "python",
   "name": "python3"
  },
  "language_info": {
   "codemirror_mode": {
    "name": "ipython",
    "version": 3
   },
   "file_extension": ".py",
   "mimetype": "text/x-python",
   "name": "python",
   "nbconvert_exporter": "python",
   "pygments_lexer": "ipython3",
   "version": "3.12.0"
  }
 },
 "nbformat": 4,
 "nbformat_minor": 5
}
